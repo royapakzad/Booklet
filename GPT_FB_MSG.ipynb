{
  "nbformat": 4,
  "nbformat_minor": 0,
  "metadata": {
    "colab": {
      "name": "GPT FB-MSG",
      "provenance": [],
      "collapsed_sections": [],
      "include_colab_link": true
    },
    "kernelspec": {
      "name": "python3",
      "display_name": "Python 3"
    }
  },
  "cells": [
    {
      "cell_type": "markdown",
      "metadata": {
        "id": "view-in-github",
        "colab_type": "text"
      },
      "source": [
        "<a href=\"https://colab.research.google.com/github/royapakzad/Booklet/blob/master/GPT_FB_MSG.ipynb\" target=\"_parent\"><img src=\"https://colab.research.google.com/assets/colab-badge.svg\" alt=\"Open In Colab\"/></a>"
      ]
    },
    {
      "cell_type": "code",
      "metadata": {
        "id": "JE_fFgQ8a_Dd",
        "colab_type": "code",
        "colab": {}
      },
      "source": [
        "import os\n",
        "import json\n",
        "import random\n",
        "import re"
      ],
      "execution_count": 0,
      "outputs": []
    },
    {
      "cell_type": "code",
      "metadata": {
        "id": "etM-i8RwbcTH",
        "colab_type": "code",
        "colab": {}
      },
      "source": [
        "!git clone -b small https://github.com/Tenoke/gpt-2.git"
      ],
      "execution_count": 0,
      "outputs": []
    },
    {
      "cell_type": "code",
      "metadata": {
        "id": "LVTyGrhsbdep",
        "colab_type": "code",
        "colab": {}
      },
      "source": [
        "cd gpt-2"
      ],
      "execution_count": 0,
      "outputs": []
    },
    {
      "cell_type": "code",
      "metadata": {
        "id": "azu6KCOHbhIy",
        "colab_type": "code",
        "colab": {}
      },
      "source": [
        "!pip3 install -r requirements.txt"
      ],
      "execution_count": 0,
      "outputs": []
    },
    {
      "cell_type": "code",
      "metadata": {
        "id": "ecmuIWxFgFBz",
        "colab_type": "code",
        "colab": {}
      },
      "source": [
        "!sh download_model.sh 117M"
      ],
      "execution_count": 0,
      "outputs": []
    },
    {
      "cell_type": "code",
      "metadata": {
        "id": "Tmj-M0Iobv3L",
        "colab_type": "code",
        "colab": {}
      },
      "source": [
        "!curl 'https://bigzipfiles.facebook.com/p/dl/download/file.php?r=100000045203418&t=100000045203418&j=11&i=2423522277659255&ext=1552347802&hash=AaDXnDMervVmbTPV' -H 'authority: bigzipfiles.facebook.com' -H 'upgrade-insecure-requests: 1' -H 'dnt: 1' -H 'user-agent: Mozilla/5.0 (X11; Linux x86_64) AppleWebKit/537.36 (KHTML, like Gecko) Chrome/72.0.3626.121 Safari/537.36' -H 'accept: text/html,application/xhtml+xml,application/xml;q=0.9,image/webp,image/apng,*/*;q=0.8' -H 'referer: https://www.facebook.com/' -H 'accept-encoding: gzip, deflate, br' -H 'accept-language: en-GB,en;q=0.9,bg-BG;q=0.8,bg;q=0.7,en-US;q=0.6' -H 'cookie: datr=qi5tXEI5YtkypxAdISqJGNZd; sb=qi5tXJPGdhJhbt5N04dUGcUv; c_user=100000045203418; xs=29%3AgDb81L_oJkC4Kg%3A2%3A1550659246%3A4402%3A5224; pl=n; dpr=0.8999999761581421; spin=r.1000481805_b.trunk_t.1552342837_s.1_v.2_; fr=1BXrWEDVIeChp7NLC.AWXvyWCWdyCZAdTM2bSw40pj8-E.BcbS6q.Hm.AAA.0.0.BchuAL.AWWf6I2i; presence=EDvF3EtimeF1552346587EuserFA21BB45203418A2EstateFDsb2F1552344421952EatF1552345159684Et3F_5bDiFA2user_3a1B00305017170A2EoF1EfF1CAcDiFA2user_3a1B01308116906A2EoF2EfF3CAcDiFA2user_3a1B08124067081A2EoF3EfF2C_5dEutc3F1552345156737G552346587474CEchFDp_5f1BB45203418F1CC; act=1552346589369%2F2; wd=901x697; pnl_data2=eyJhIjoib25hZnRlcmxvYWQiLCJjIjoiWERZSVJlcXVlc3RDb250cm9sbGVyIiwiYiI6ZmFsc2UsImQiOiIvcC9kbC9kb3dubG9hZC9maWxlLnBocCIsImUiOltdfQ%3D%3D' --compressed --output fb-json.zip"
      ],
      "execution_count": 0,
      "outputs": []
    },
    {
      "cell_type": "code",
      "metadata": {
        "id": "IVx0O2rsdMak",
        "colab_type": "code",
        "colab": {}
      },
      "source": [
        "!unzip fb-json.zip"
      ],
      "execution_count": 0,
      "outputs": []
    },
    {
      "cell_type": "code",
      "metadata": {
        "id": "Tp7wgFSKdrBe",
        "colab_type": "code",
        "colab": {}
      },
      "source": [
        "files = []\n",
        "for p, d, f in os.walk('messages/inbox'):\n",
        "    for file in f:\n",
        "        if file.endswith('message.json'):\n",
        "            files.append(f'{p}/{file}')\n",
        "\n",
        "len(files)"
      ],
      "execution_count": 0,
      "outputs": []
    },
    {
      "cell_type": "code",
      "metadata": {
        "id": "0fZB1hVWdsO9",
        "colab_type": "code",
        "colab": {}
      },
      "source": [
        "def fix_encoding(s):\n",
        "  return re.sub('[\\xc2-\\xf4][\\x80-\\xbf]+',lambda m: m.group(0).encode('latin1').decode('utf8'),s)\n",
        "\n",
        "def find_cyrilic(s):\n",
        "    return len(re.findall('(?i)[А-ЯЁ]', s)) > 0\n",
        "\n",
        "def test_mostly_cyrilic(messages):\n",
        "  i = 0\n",
        "  check_n = min(250, len(messages))\n",
        "  for msg in random.sample(messages, check_n):\n",
        "    try:\n",
        "      i +=find_cyrilic(fix_encoding(msg['content'])) or find_cyrilic(fix_encoding(msg['sender_name']))\n",
        "    except KeyError:\n",
        "      check_n -=1\n",
        "  return i > check_n/5"
      ],
      "execution_count": 0,
      "outputs": []
    },
    {
      "cell_type": "code",
      "metadata": {
        "id": "lssDwjCqeUvY",
        "colab_type": "code",
        "colab": {}
      },
      "source": [
        "\n",
        "text_corpus = ''\n",
        "banned_names = ('vladislav',)\n",
        "for file in files:\n",
        "  with open(file, 'r') as f:\n",
        "      try:\n",
        "        msgs = json.load(f)['messages']\n",
        "        msgs.reverse()\n",
        "      except:\n",
        "        pass\n",
        "      else:\n",
        "        if not test_mostly_cyrilic(msgs) and not any(bn in file for bn in banned_names):\n",
        "          for msg in msgs:\n",
        "            try:\n",
        "              content = fix_encoding(msg['content'])\n",
        "              to_add  = f\"({msg['timestamp_ms']}) {msg['sender_name']}: {content}\\n\"\n",
        "              if not find_cyrilic(to_add):\n",
        "                text_corpus += to_add\n",
        "            except KeyError:\n",
        "              pass\n",
        "          print(file)\n",
        "\n",
        "          text_corpus += '\\n\\n'\n",
        "\n",
        " "
      ],
      "execution_count": 0,
      "outputs": []
    },
    {
      "cell_type": "code",
      "metadata": {
        "id": "NzivJRABemEB",
        "colab_type": "code",
        "colab": {}
      },
      "source": [
        "with open('fb-cleaned.txt', 'w') as f:\n",
        "  f.write(text_corpus)"
      ],
      "execution_count": 0,
      "outputs": []
    },
    {
      "cell_type": "code",
      "metadata": {
        "id": "N2-MfFxgemo4",
        "colab_type": "code",
        "colab": {}
      },
      "source": [
        "!du -h fb-cleaned.txt"
      ],
      "execution_count": 0,
      "outputs": []
    },
    {
      "cell_type": "code",
      "metadata": {
        "id": "ZzHsNeMNenxR",
        "colab_type": "code",
        "colab": {}
      },
      "source": [
        "!PYTHONPATH=src ./encode.py --in-text fb-cleaned.txt --out-npz fb-cleaned.txt.npz"
      ],
      "execution_count": 0,
      "outputs": []
    },
    {
      "cell_type": "code",
      "metadata": {
        "id": "QbBJ6JoufBGQ",
        "colab_type": "code",
        "colab": {}
      },
      "source": [
        "!PYTHONPATH=src ./train.py --dataset fb-cleaned.txt.npz --sample_every=250 --learning_rate=0.0001 --stop_after=251\n"
      ],
      "execution_count": 0,
      "outputs": []
    },
    {
      "cell_type": "code",
      "metadata": {
        "id": "EykQ2j4bfB0j",
        "colab_type": "code",
        "colab": {}
      },
      "source": [
        "!PYTHONPATH=src ./train.py --dataset fb-cleaned.txt.npz --sample_every=250 --learning_rate=0.001 --stop_after=751\n"
      ],
      "execution_count": 0,
      "outputs": []
    },
    {
      "cell_type": "code",
      "metadata": {
        "id": "lyduXYIKfCU4",
        "colab_type": "code",
        "colab": {}
      },
      "source": [
        "!PYTHONPATH=src ./train.py --dataset fb-cleaned.txt.npz --sample_every=250 --learning_rate=0.0001 --beta=0.95 --stop_after=1251"
      ],
      "execution_count": 0,
      "outputs": []
    },
    {
      "cell_type": "code",
      "metadata": {
        "id": "mNXhOM22fNHJ",
        "colab_type": "code",
        "colab": {}
      },
      "source": [
        "!cp -r /content/gpt-2/checkpoint/run1/* /content/gpt-2/models/117M/"
      ],
      "execution_count": 0,
      "outputs": []
    },
    {
      "cell_type": "code",
      "metadata": {
        "id": "2csc2bZHfrXd",
        "colab_type": "code",
        "colab": {}
      },
      "source": [
        "!python3 src/generate_unconditional_samples.py --top_k 40 --temperature 0.9"
      ],
      "execution_count": 0,
      "outputs": []
    },
    {
      "cell_type": "code",
      "metadata": {
        "id": "rhD-xC4IsPiP",
        "colab_type": "code",
        "colab": {}
      },
      "source": [
        "def create_specific_file(person, files=files):\n",
        "  text_corpus = ''\n",
        "  for file in files:\n",
        "    if person in file:\n",
        "      print(file)\n",
        "      with open(file, 'r') as f:\n",
        "          try:\n",
        "            msgs = json.load(f)['messages']\n",
        "            msgs.reverse()\n",
        "          except:\n",
        "            pass\n",
        "          else:\n",
        "            for msg in msgs:\n",
        "              try:\n",
        "                content = fix_encoding(msg['content'])\n",
        "                to_add  = f\"({msg['timestamp_ms']}) {msg['sender_name']}: {content}\\n\"\n",
        "                if not find_cyrilic(to_add):\n",
        "                  text_corpus += to_add\n",
        "              except KeyError:\n",
        "                pass\n",
        "\n",
        "              text_corpus += '\\n\\n'\n",
        "      with open(f'fb-cleaned-{person}.txt', 'w') as f:\n",
        "        f.write(text_corpus)\n",
        "        return\n"
      ],
      "execution_count": 0,
      "outputs": []
    }
  ]
}